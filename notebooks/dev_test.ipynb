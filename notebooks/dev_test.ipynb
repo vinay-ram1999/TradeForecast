{
 "cells": [
  {
   "cell_type": "code",
   "execution_count": 1,
   "metadata": {},
   "outputs": [
    {
     "name": "stdout",
     "output_type": "stream",
     "text": [
      "/Users/nebula/Documents/MS-DataScience/Fall-2024/DL(DS-677)/Project/TradeForecast\n"
     ]
    },
    {
     "name": "stderr",
     "output_type": "stream",
     "text": [
      "/Users/nebula/Documents/MS-DataScience/Fall-2024/DL(DS-677)/Project/TradeForecast/.venv/lib/python3.11/site-packages/IPython/core/magics/osm.py:417: UserWarning: This is now an optional IPython functionality, setting dhist requires you to install the `pickleshare` library.\n",
      "  self.shell.db['dhist'] = compress_dhist(dhist)[-100:]\n"
     ]
    },
    {
     "data": {
      "text/plain": [
       "'/Users/nebula/Documents/MS-DataScience/Fall-2024/DL(DS-677)/Project/TradeForecast'"
      ]
     },
     "execution_count": 1,
     "metadata": {},
     "output_type": "execute_result"
    }
   ],
   "source": [
    "%cd ..\n",
    "%pwd"
   ]
  },
  {
   "cell_type": "code",
   "execution_count": 2,
   "metadata": {},
   "outputs": [],
   "source": [
    "from tradeforecast.augmentation import RNNDataset\n",
    "from tradeforecast.viz import plot_rnn_forecasts\n",
    "from tradeforecast.forecast.base import LitBase\n",
    "from torch.utils.data import DataLoader\n",
    "from lightning import Trainer\n",
    "from torch import Tensor\n",
    "from torch import optim\n",
    "import torch.nn.functional as F\n",
    "\n",
    "def predict(model: LitBase, data_loader: DataLoader, dataset: RNNDataset):\n",
    "    y: Tensor; y_pred: Tensor\n",
    "    y, y_pred = model.predict(data_loader)\n",
    "    y = dataset.inverse_transform(y.numpy())\n",
    "    y_pred = dataset.inverse_transform(y_pred.numpy())\n",
    "    plot_rnn_forecasts(y, y_pred)\n",
    "    return"
   ]
  },
  {
   "cell_type": "code",
   "execution_count": 3,
   "metadata": {},
   "outputs": [
    {
     "data": {
      "text/html": [
       "<div><style>\n",
       ".dataframe > thead > tr,\n",
       ".dataframe > tbody > tr {\n",
       "  text-align: right;\n",
       "  white-space: pre-wrap;\n",
       "}\n",
       "</style>\n",
       "<small>shape: (5, 14)</small><table border=\"1\" class=\"dataframe\"><thead><tr><th>Datetime</th><th>Open</th><th>Close</th><th>Volume</th><th>SMA_close_9</th><th>SMA_close_30</th><th>MACD_close_12-26</th><th>MACD-SL_close_9</th><th>RSI_close_14</th><th>ATR_close_14</th><th>Quarter_sin</th><th>Quarter_cos</th><th>Week_sin</th><th>Week_cos</th></tr><tr><td>datetime[μs, EST]</td><td>f64</td><td>f64</td><td>i64</td><td>f64</td><td>f64</td><td>f64</td><td>f64</td><td>f64</td><td>f64</td><td>f64</td><td>f64</td><td>f64</td><td>f64</td></tr></thead><tbody><tr><td>2015-02-20 00:00:00 EST</td><td>0.531866</td><td>0.536186</td><td>157752000</td><td>0.522079</td><td>0.4922</td><td>0.013429</td><td>0.010533</td><td>75.378346</td><td>0.011963</td><td>1.0</td><td>0.0</td><td>0.812487</td><td>0.582979</td></tr><tr><td>2015-02-23 00:00:00 EST</td><td>0.535946</td><td>0.531866</td><td>125008000</td><td>0.526826</td><td>0.49404</td><td>0.013443</td><td>0.011185</td><td>68.533594</td><td>0.011292</td><td>1.0</td><td>0.0</td><td>0.875735</td><td>0.482792</td></tr><tr><td>2015-02-24 00:00:00 EST</td><td>0.533914</td><td>0.537528</td><td>149356000</td><td>0.530682</td><td>0.496005</td><td>0.013725</td><td>0.011741</td><td>72.332929</td><td>0.010908</td><td>1.0</td><td>0.0</td><td>0.875735</td><td>0.482792</td></tr><tr><td>2015-02-25 00:00:00 EST</td><td>0.535359</td><td>0.533432</td><td>123820000</td><td>0.534456</td><td>0.498033</td><td>0.013479</td><td>0.012114</td><td>65.710435</td><td>0.01035</td><td>1.0</td><td>0.0</td><td>0.875735</td><td>0.482792</td></tr><tr><td>2015-02-26 00:00:00 EST</td><td>0.533914</td><td>0.534878</td><td>152864000</td><td>0.534417</td><td>0.500134</td><td>0.013241</td><td>0.012353</td><td>66.943</td><td>0.009965</td><td>1.0</td><td>0.0</td><td>0.875735</td><td>0.482792</td></tr></tbody></table></div>"
      ],
      "text/plain": [
       "shape: (5, 14)\n",
       "┌────────────┬──────────┬──────────┬───────────┬───┬────────────┬────────────┬──────────┬──────────┐\n",
       "│ Datetime   ┆ Open     ┆ Close    ┆ Volume    ┆ … ┆ Quarter_si ┆ Quarter_co ┆ Week_sin ┆ Week_cos │\n",
       "│ ---        ┆ ---      ┆ ---      ┆ ---       ┆   ┆ n          ┆ s          ┆ ---      ┆ ---      │\n",
       "│ datetime[μ ┆ f64      ┆ f64      ┆ i64       ┆   ┆ ---        ┆ ---        ┆ f64      ┆ f64      │\n",
       "│ s, EST]    ┆          ┆          ┆           ┆   ┆ f64        ┆ f64        ┆          ┆          │\n",
       "╞════════════╪══════════╪══════════╪═══════════╪═══╪════════════╪════════════╪══════════╪══════════╡\n",
       "│ 2015-02-20 ┆ 0.531866 ┆ 0.536186 ┆ 157752000 ┆ … ┆ 1.0        ┆ 0.0        ┆ 0.812487 ┆ 0.582979 │\n",
       "│ 00:00:00   ┆          ┆          ┆           ┆   ┆            ┆            ┆          ┆          │\n",
       "│ EST        ┆          ┆          ┆           ┆   ┆            ┆            ┆          ┆          │\n",
       "│ 2015-02-23 ┆ 0.535946 ┆ 0.531866 ┆ 125008000 ┆ … ┆ 1.0        ┆ 0.0        ┆ 0.875735 ┆ 0.482792 │\n",
       "│ 00:00:00   ┆          ┆          ┆           ┆   ┆            ┆            ┆          ┆          │\n",
       "│ EST        ┆          ┆          ┆           ┆   ┆            ┆            ┆          ┆          │\n",
       "│ 2015-02-24 ┆ 0.533914 ┆ 0.537528 ┆ 149356000 ┆ … ┆ 1.0        ┆ 0.0        ┆ 0.875735 ┆ 0.482792 │\n",
       "│ 00:00:00   ┆          ┆          ┆           ┆   ┆            ┆            ┆          ┆          │\n",
       "│ EST        ┆          ┆          ┆           ┆   ┆            ┆            ┆          ┆          │\n",
       "│ 2015-02-25 ┆ 0.535359 ┆ 0.533432 ┆ 123820000 ┆ … ┆ 1.0        ┆ 0.0        ┆ 0.875735 ┆ 0.482792 │\n",
       "│ 00:00:00   ┆          ┆          ┆           ┆   ┆            ┆            ┆          ┆          │\n",
       "│ EST        ┆          ┆          ┆           ┆   ┆            ┆            ┆          ┆          │\n",
       "│ 2015-02-26 ┆ 0.533914 ┆ 0.534878 ┆ 152864000 ┆ … ┆ 1.0        ┆ 0.0        ┆ 0.875735 ┆ 0.482792 │\n",
       "│ 00:00:00   ┆          ┆          ┆           ┆   ┆            ┆            ┆          ┆          │\n",
       "│ EST        ┆          ┆          ┆           ┆   ┆            ┆            ┆          ┆          │\n",
       "└────────────┴──────────┴──────────┴───────────┴───┴────────────┴────────────┴──────────┴──────────┘"
      ]
     },
     "execution_count": 3,
     "metadata": {},
     "output_type": "execute_result"
    }
   ],
   "source": [
    "from tradeforecast.augmentation import DataEntryPoint, Indicators, FeatureEngg\n",
    "from tradeforecast.scrape import Scrapper\n",
    "\n",
    "ticker = 'NVDA'\n",
    "scrapper = Scrapper(ticker)\n",
    "\n",
    "df_dict = scrapper.fetch_historic_data(interval='1d', start='2015-01-01', end='2024-12-06')\n",
    "\n",
    "data_entry = DataEntryPoint(df=df_dict[ticker])\n",
    "\n",
    "indicators = Indicators(data_entry)\n",
    "indicators.add_moving_average().add_moving_average(n=30).add_macd_sl().add_rsi().add_atr()\n",
    "\n",
    "features = FeatureEngg(data_entry)\n",
    "features.add_quarters().add_weeks()\n",
    "\n",
    "lf = data_entry.data.drop_nulls().drop('High','Low')\n",
    "lf.head().collect()"
   ]
  },
  {
   "cell_type": "code",
   "execution_count": 4,
   "metadata": {},
   "outputs": [],
   "source": [
    "from tradeforecast.augmentation import train_val_test_split\n",
    "\n",
    "dataset_kwargs = {'lf': lf,\n",
    "                 'non_temporal': [x for x in data_entry.non_temporal if x not in ['High', 'Low']],\n",
    "                 'temporal': data_entry.temporal,\n",
    "                 'target': 'Close',\n",
    "                 'look_back_len': 60,\n",
    "                 'forecast_len': 5}\n",
    "\n",
    "rnn_dataset = RNNDataset(**dataset_kwargs)\n",
    "\n",
    "train_dataset, test_dataset = train_val_test_split(rnn_dataset, test_size=0.1)\n",
    "\n",
    "batch_size = 128\n",
    "num_workers = 2\n",
    "\n",
    "train_loader = DataLoader(train_dataset, batch_size=batch_size, shuffle=False, drop_last=False, num_workers=num_workers, persistent_workers=True)\n",
    "test_loader = DataLoader(test_dataset, batch_size=batch_size, shuffle=False, drop_last=False, num_workers=num_workers, persistent_workers=True)"
   ]
  },
  {
   "cell_type": "markdown",
   "metadata": {},
   "source": [
    "## Train LSTM model"
   ]
  },
  {
   "cell_type": "code",
   "execution_count": null,
   "metadata": {},
   "outputs": [
    {
     "name": "stderr",
     "output_type": "stream",
     "text": [
      "GPU available: True (mps), used: True\n",
      "TPU available: False, using: 0 TPU cores\n",
      "HPU available: False, using: 0 HPUs\n",
      "Running in `fast_dev_run` mode: will run the requested loop using 1 batch(es). Logging and checkpointing is suppressed.\n",
      "/Users/nebula/Documents/MS-DataScience/Fall-2024/DL(DS-677)/Project/TradeForecast/.venv/lib/python3.11/site-packages/lightning/pytorch/trainer/configuration_validator.py:70: You defined a `validation_step` but have no `val_dataloader`. Skipping val loop.\n",
      "\n",
      "  | Name      | Type       | Params | Mode \n",
      "-------------------------------------------------\n",
      "0 | lstm      | LSTM       | 464    | train\n",
      "1 | fc_linear | Sequential | 25     | train\n",
      "-------------------------------------------------\n",
      "489       Trainable params\n",
      "0         Non-trainable params\n",
      "489       Total params\n",
      "0.002     Total estimated model params size (MB)\n",
      "3         Modules in train mode\n",
      "0         Modules in eval mode\n"
     ]
    },
    {
     "name": "stdout",
     "output_type": "stream",
     "text": [
      "Epoch 0: 100%|██████████| 1/1 [00:02<00:00,  0.43it/s]"
     ]
    },
    {
     "name": "stderr",
     "output_type": "stream",
     "text": [
      "`Trainer.fit` stopped: `max_steps=1` reached.\n"
     ]
    },
    {
     "name": "stdout",
     "output_type": "stream",
     "text": [
      "Epoch 0: 100%|██████████| 1/1 [00:02<00:00,  0.43it/s]\n"
     ]
    }
   ],
   "source": [
    "from tradeforecast.forecast import LSTM\n",
    "from tradeforecast.forecast.utils import OverrideEpochStepCallback\n",
    "\n",
    "lstm_kwargs = {'input_size': len(rnn_dataset.features),\n",
    "              'hidden_size': 4,\n",
    "              'n_LSTM': 2,\n",
    "              'bidirectional': False,\n",
    "              'fc_out_size':[],\n",
    "              'output_size': rnn_dataset.forecast_len,\n",
    "              'dropout': 0,\n",
    "              'criterion': F.mse_loss,\n",
    "              'lr': 0.1,\n",
    "              'optimizer': optim.SGD}\n",
    "\n",
    "lstm_model = LSTM(**lstm_kwargs)\n",
    "\n",
    "lstm_trainer = Trainer(fast_dev_run=True, max_epochs=4, log_every_n_steps=10, check_val_every_n_epoch=100)\n",
    "\n",
    "lstm_trainer.fit(lstm_model, train_dataloaders=train_loader, val_dataloaders=test_loader)"
   ]
  },
  {
   "cell_type": "code",
   "execution_count": 6,
   "metadata": {},
   "outputs": [],
   "source": [
    "y_actual, y_pred = lstm_model.predict(test_loader)"
   ]
  },
  {
   "cell_type": "code",
   "execution_count": 7,
   "metadata": {},
   "outputs": [
    {
     "data": {
      "text/plain": [
       "{'MAE': np.float32(5.5261393),\n",
       " 'MSE': np.float32(32.84177),\n",
       " 'RMSE': np.float32(5.730774),\n",
       " 'R-squared': -13.628268241882324}"
      ]
     },
     "execution_count": 7,
     "metadata": {},
     "output_type": "execute_result"
    }
   ],
   "source": [
    "from tradeforecast.forecast import calc_metrics\n",
    "\n",
    "lstm_metrics = calc_metrics(y_actual, y_pred)\n",
    "lstm_metrics"
   ]
  },
  {
   "cell_type": "code",
   "execution_count": null,
   "metadata": {},
   "outputs": [],
   "source": []
  }
 ],
 "metadata": {
  "kernelspec": {
   "display_name": ".venv",
   "language": "python",
   "name": "python3"
  },
  "language_info": {
   "codemirror_mode": {
    "name": "ipython",
    "version": 3
   },
   "file_extension": ".py",
   "mimetype": "text/x-python",
   "name": "python",
   "nbconvert_exporter": "python",
   "pygments_lexer": "ipython3",
   "version": "3.11.8"
  }
 },
 "nbformat": 4,
 "nbformat_minor": 2
}
