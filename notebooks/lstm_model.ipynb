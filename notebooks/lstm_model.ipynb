{
 "cells": [
  {
   "cell_type": "code",
   "execution_count": 1,
   "metadata": {},
   "outputs": [
    {
     "name": "stdout",
     "output_type": "stream",
     "text": [
      "/Users/nebula/Documents/MS-DataScience/Fall-2024/DL(DS-677)/Project/TradeForecast\n"
     ]
    }
   ],
   "source": [
    "%cd .."
   ]
  },
  {
   "cell_type": "code",
   "execution_count": 2,
   "metadata": {},
   "outputs": [],
   "source": [
    "from tradeforecast.augmentation import DataEntryPoint, Indicators, FeatureEngg, RNNDataset\n",
    "\n",
    "fpath = 'AAPL_1d_max_(None-None).csv'\n",
    "\n",
    "data_entry = DataEntryPoint(fpath)\n",
    "\n",
    "indicators = Indicators(data_entry)\n",
    "indicators.add_macd_sl().add_rsi().add_atr()\n",
    "\n",
    "features = FeatureEngg(data_entry)\n",
    "features.add_quarters().add_weeks()\n",
    "\n",
    "lf = data_entry.data.drop_nulls()"
   ]
  },
  {
   "cell_type": "code",
   "execution_count": null,
   "metadata": {},
   "outputs": [],
   "source": [
    "from torch.utils.data import DataLoader\n",
    "\n",
    "dataset_kwargs = {'lf': lf,\n",
    "                 'non_temporal': data_entry.non_temporal,\n",
    "                 'temporal': data_entry.temporal,\n",
    "                 'target': data_entry.base_vars,\n",
    "                 'look_back_len': 30,\n",
    "                 'forecast_len': 7,\n",
    "                 'split': 0.2}\n",
    "\n",
    "train_dataset = RNNDataset(train=True, **dataset_kwargs)\n",
    "test_dataset = RNNDataset(train=False, **dataset_kwargs)\n",
    "\n",
    "train_loader = DataLoader(train_dataset, batch_size=64, shuffle=False, drop_last=False)\n",
    "test_loader = DataLoader(test_dataset, batch_size=64, shuffle=False, drop_last=False)"
   ]
  },
  {
   "cell_type": "code",
   "execution_count": null,
   "metadata": {},
   "outputs": [],
   "source": [
    "from tradeforecast import LSTM\n",
    "from torch import nn, optim\n",
    "\n",
    "lstm_kwargs = {'input_size': len(train_dataset.features),\n",
    "              'hidden_size': 32,\n",
    "              'n_LSTM': 8,\n",
    "              'fc_out_size':[64,128,256,128,64],\n",
    "              'output_size': len(train_dataset.target),\n",
    "              'forecast_len': train_dataset.forecast_len,\n",
    "              'dropout': 0.3}\n",
    "\n",
    "lstm_model = LSTM(**lstm_kwargs)"
   ]
  },
  {
   "cell_type": "code",
   "execution_count": null,
   "metadata": {},
   "outputs": [],
   "source": [
    "lstm_model.train_model(nn.HuberLoss, optim.Adam, 100, train_loader, 0.001)\n"
   ]
  },
  {
   "cell_type": "code",
   "execution_count": null,
   "metadata": {},
   "outputs": [],
   "source": [
    "y, y_preds = lstm_model.test_model(test_loader)"
   ]
  }
 ],
 "metadata": {
  "kernelspec": {
   "display_name": ".venv",
   "language": "python",
   "name": "python3"
  },
  "language_info": {
   "codemirror_mode": {
    "name": "ipython",
    "version": 3
   },
   "file_extension": ".py",
   "mimetype": "text/x-python",
   "name": "python",
   "nbconvert_exporter": "python",
   "pygments_lexer": "ipython3",
   "version": "3.11.8"
  }
 },
 "nbformat": 4,
 "nbformat_minor": 2
}
