{
 "cells": [
  {
   "cell_type": "code",
   "execution_count": null,
   "metadata": {},
   "outputs": [],
   "source": [
    "%cd ..\n",
    "%pwd"
   ]
  },
  {
   "cell_type": "code",
   "execution_count": null,
   "metadata": {},
   "outputs": [],
   "source": [
    "from tradeforecast import Scrapper\n",
    "\n",
    "ticker = 'AAPL'\n",
    "scrapper = Scrapper(ticker)\n",
    "\n",
    "exported_fname = scrapper.export_historic_data(interval='1d', period='max')"
   ]
  },
  {
   "cell_type": "code",
   "execution_count": null,
   "metadata": {},
   "outputs": [],
   "source": [
    "from tradeforecast.augmentation import DataEntryPoint, RNNDataset, train_test_split\n",
    "import polars as pl\n",
    "\n",
    "data_entry = DataEntryPoint(exported_fname[ticker])\n",
    "\n",
    "lf = data_entry.data.drop_nulls()\n",
    "lf.collect()"
   ]
  },
  {
   "cell_type": "code",
   "execution_count": null,
   "metadata": {},
   "outputs": [],
   "source": [
    "from torch.utils.data import DataLoader\n",
    "\n",
    "dataset_kwargs = {'lf': lf,\n",
    "                 'non_temporal': data_entry.non_temporal,\n",
    "                 'temporal': data_entry.temporal,\n",
    "                 'target': 'Close',\n",
    "                 'look_back_len': 30,\n",
    "                 'forecast_len': 5}\n",
    "\n",
    "rnn_dataset = RNNDataset(**dataset_kwargs)\n",
    "\n",
    "train_dataset, test_dataset = train_test_split(rnn_dataset, 0.05)\n",
    "print(len(rnn_dataset), len(train_dataset), len(test_dataset))\n",
    "\n",
    "train_loader = DataLoader(train_dataset, batch_size=128, shuffle=False, drop_last=False)\n",
    "test_loader = DataLoader(test_dataset, batch_size=128, shuffle=False, drop_last=False)"
   ]
  },
  {
   "cell_type": "code",
   "execution_count": null,
   "metadata": {},
   "outputs": [],
   "source": [
    "from tradeforecast import LSTM\n",
    "\n",
    "lstm_kwargs = {'input_size': len(rnn_dataset.features),\n",
    "              'hidden_size': 32,\n",
    "              'n_LSTM': 4,\n",
    "              'bidirectional': True,\n",
    "              'fc_out_size':[],\n",
    "              'output_size': rnn_dataset.forecast_len,\n",
    "              'dropout': 0}\n",
    "\n",
    "lstm_model = LSTM(**lstm_kwargs)\n",
    "print(f\"The device is set to ---> '{lstm_model.device}'\")\n",
    "\n",
    "lstm_model.load_model_state('.pth')"
   ]
  },
  {
   "cell_type": "code",
   "execution_count": null,
   "metadata": {},
   "outputs": [],
   "source": [
    "from sklearn.metrics import mean_absolute_percentage_error\n",
    "from torch import Tensor\n",
    "\n",
    "y: Tensor; y_preds: Tensor\n",
    "y, y_preds = lstm_model.test_model(test_loader)\n",
    "\n",
    "y_arr, y_preds_arr = y.cpu().numpy(), y_preds.cpu().numpy()\n",
    "print(y_arr.shape, y_preds_arr.shape)\n",
    "\n",
    "y_arr = rnn_dataset.inverse_transform(y_arr)\n",
    "y_preds_arr = rnn_dataset.inverse_transform(y_preds_arr)\n",
    "mean_absolute_percentage_error(y_arr, y_preds_arr)"
   ]
  },
  {
   "cell_type": "code",
   "execution_count": null,
   "metadata": {},
   "outputs": [],
   "source": [
    "from tradeforecast.viz import plot_rnn_forecasts\n",
    "\n",
    "plot_rnn_forecasts(y_arr, y_preds_arr)"
   ]
  },
  {
   "cell_type": "code",
   "execution_count": null,
   "metadata": {},
   "outputs": [],
   "source": []
  }
 ],
 "metadata": {
  "kernelspec": {
   "display_name": ".venv",
   "language": "python",
   "name": "python3"
  },
  "language_info": {
   "codemirror_mode": {
    "name": "ipython",
    "version": 3
   },
   "file_extension": ".py",
   "mimetype": "text/x-python",
   "name": "python",
   "nbconvert_exporter": "python",
   "pygments_lexer": "ipython3",
   "version": "3.12.3"
  }
 },
 "nbformat": 4,
 "nbformat_minor": 2
}
